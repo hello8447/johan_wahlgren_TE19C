{
 "metadata": {
  "language_info": {
   "codemirror_mode": {
    "name": "ipython",
    "version": 3
   },
   "file_extension": ".py",
   "mimetype": "text/x-python",
   "name": "python",
   "nbconvert_exporter": "python",
   "pygments_lexer": "ipython3",
   "version": "3.8.5-final"
  },
  "orig_nbformat": 2,
  "kernelspec": {
   "name": "Python 3.8.5 32-bit",
   "display_name": "Python 3.8.5 32-bit",
   "metadata": {
    "interpreter": {
     "hash": "43ffb52e5ec73d3aac7d77bc3ee21f4ff3f6bfadd376d58208ab66696f4c8b68"
    }
   }
  }
 },
 "nbformat": 4,
 "nbformat_minor": 2,
 "cells": [
  {
   "cell_type": "markdown",
   "metadata": {},
   "source": []
  },
  {
   "cell_type": "code",
   "execution_count": 13,
   "metadata": {},
   "outputs": [
    {
     "output_type": "error",
     "ename": "SyntaxError",
     "evalue": "invalid syntax (<ipython-input-13-120dac6fb1ec>, line 1)",
     "traceback": [
      "\u001b[1;36m  File \u001b[1;32m\"<ipython-input-13-120dac6fb1ec>\"\u001b[1;36m, line \u001b[1;32m1\u001b[0m\n\u001b[1;33m    import.pyplot as plt\u001b[0m\n\u001b[1;37m          ^\u001b[0m\n\u001b[1;31mSyntaxError\u001b[0m\u001b[1;31m:\u001b[0m invalid syntax\n"
     ]
    }
   ],
   "source": [
    "import.pyplot as plt\n",
    "import numpy as np\n",
    "\n",
    "bakterier = 1,5e6 # 1,5*10**6\n",
    "surt = 1e7\n",
    "faktor = 1,5\n",
    "timmar = 0\n",
    "\n",
    "y_bakterier = [bakterier] #lista som ska hålla bakterirnas \"förändring\"\n",
    "\n",
    "\n",
    "while bakterier < surt:\n",
    "    bakterier = faktor*bakterier\n",
    "    y_bakterier.append(bakterier) #lägger på bakterier på vår lista \n",
    "    timmar +=1\n",
    "\n",
    "x_timmar = np.arange(timmar+1)\n",
    "\n",
    "print(f\"det tar {timmar} h i rumstemperatur tills mjölken ska surna\")\n",
    "print(f\"x = {x_timmar}\")\n",
    "print(f\"y = {y_bakterier}\")\n",
    "\n",
    "plt.plot(x_timmar, y_bakterier, \"*-\")\n",
    "plt.xlabel(\"timmar (h)\")\n",
    "plt.ylabel(\"antal bakterier\")\n",
    "plt.title(\"bakterietillväxt i mjölk i rumstemperatur\")\n",
    "plt.show()\n",
    "\n"
   ]
  },
  {
   "cell_type": "code",
   "execution_count": null,
   "metadata": {},
   "outputs": [],
   "source": []
  }
 ]
}