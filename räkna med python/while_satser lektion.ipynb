{
 "metadata": {
  "language_info": {
   "codemirror_mode": {
    "name": "ipython",
    "version": 3
   },
   "file_extension": ".py",
   "mimetype": "text/x-python",
   "name": "python",
   "nbconvert_exporter": "python",
   "pygments_lexer": "ipython3",
   "version": "3.8.5-final"
  },
  "orig_nbformat": 2,
  "kernelspec": {
   "name": "Python 3.8.5 32-bit",
   "display_name": "Python 3.8.5 32-bit",
   "metadata": {
    "interpreter": {
     "hash": "43ffb52e5ec73d3aac7d77bc3ee21f4ff3f6bfadd376d58208ab66696f4c8b68"
    }
   }
  }
 },
 "nbformat": 4,
 "nbformat_minor": 2,
 "cells": [
  {
   "cell_type": "code",
   "execution_count": 7,
   "metadata": {},
   "outputs": [
    {
     "output_type": "stream",
     "name": "stdout",
     "text": [
      "1+3+5+7+9 = 25\n"
     ]
    }
   ],
   "source": [
    "n = 1  # räknarvariabel\n",
    "'''\n",
    "while n < 10:\n",
    "    print(n, end = \" \")\n",
    "    n = n + 1\n",
    "    #n += 1\n",
    "'''\n",
    "summa =0\n",
    "while n < 10:\n",
    "    summa = summa + n\n",
    "\n",
    "    n += 2\n",
    "\n",
    "print(f\"1+3+5+7+9 = {summa}\")\n"
   ]
  },
  {
   "cell_type": "code",
   "execution_count": 9,
   "metadata": {},
   "outputs": [
    {
     "output_type": "error",
     "ename": "SyntaxError",
     "evalue": "unexpected EOF while parsing (<ipython-input-9-9fd566505e93>, line 14)",
     "traceback": [
      "\u001b[1;36m  File \u001b[1;32m\"<ipython-input-9-9fd566505e93>\"\u001b[1;36m, line \u001b[1;32m14\u001b[0m\n\u001b[1;33m    \u001b[0m\n\u001b[1;37m    ^\u001b[0m\n\u001b[1;31mSyntaxError\u001b[0m\u001b[1;31m:\u001b[0m unexpected EOF while parsing\n"
     ]
    }
   ],
   "source": [
    "'''\n",
    "1L mjölk 150 000 bakterier\n",
    "I rumstemp ökar antaler bakterier med 50% varje timme\n",
    "mjölk blir sur när bakterierna överstiger 10000000 st\n",
    "Hur många timmar tills mjölen blir sur?\n",
    "'''\n",
    "timmar = 0\n",
    "bakterier = 150000\n",
    "while bakterier <=10000000:\n",
    "    \n",
    "\n",
    "\n",
    "\n",
    "\n"
   ]
  },
  {
   "cell_type": "code",
   "execution_count": null,
   "metadata": {},
   "outputs": [],
   "source": []
  }
 ]
}