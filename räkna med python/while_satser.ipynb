{
 "metadata": {
  "language_info": {
   "codemirror_mode": {
    "name": "ipython",
    "version": 3
   },
   "file_extension": ".py",
   "mimetype": "text/x-python",
   "name": "python",
   "nbconvert_exporter": "python",
   "pygments_lexer": "ipython3",
   "version": "3.8.5-final"
  },
  "orig_nbformat": 2,
  "kernelspec": {
   "name": "Python 3.8.5 32-bit",
   "display_name": "Python 3.8.5 32-bit",
   "metadata": {
    "interpreter": {
     "hash": "43ffb52e5ec73d3aac7d77bc3ee21f4ff3f6bfadd376d58208ab66696f4c8b68"
    }
   }
  }
 },
 "nbformat": 4,
 "nbformat_minor": 2,
 "cells": [
  {
   "cell_type": "code",
   "execution_count": 6,
   "metadata": {
    "tags": []
   },
   "outputs": [
    {
     "output_type": "stream",
     "name": "stdout",
     "text": "den totala summan är 5050\n"
    }
   ],
   "source": [
    "#uppgift 1\n",
    "i = 1\n",
    "s = 0\n",
    "\n",
    "while i <= 100:        \n",
    "    s = s + i\n",
    "    i = i + 1\n",
    "print(f\"den totala summan är {s}\")\n",
    "\n",
    "\n"
   ]
  },
  {
   "cell_type": "code",
   "execution_count": 5,
   "metadata": {
    "tags": []
   },
   "outputs": [
    {
     "output_type": "stream",
     "name": "stdout",
     "text": "den totala summan är 2500\n"
    }
   ],
   "source": [
    "#uppgift 2\n",
    "s = 0\n",
    "i = 1\n",
    "while i <=99:\n",
    "    s = s + i\n",
    "    i = i + 2\n",
    "print(f\"den totala summan är {s}\")\n",
    "\n"
   ]
  },
  {
   "cell_type": "code",
   "execution_count": 9,
   "metadata": {
    "tags": []
   },
   "outputs": [
    {
     "output_type": "stream",
     "name": "stdout",
     "text": "Summan är 1.3333333333333333\n"
    }
   ],
   "source": [
    "#uppgift 3\n",
    "n = 90\n",
    "i = 2\n",
    "s = 1\n",
    "while i <= n:\n",
    "    s = s + 1/(2**i)\n",
    "    i = i + 2\n",
    "print(f\"Summan är {s}\")\n",
    "\n"
   ]
  },
  {
   "cell_type": "code",
   "execution_count": null,
   "metadata": {},
   "outputs": [],
   "source": []
  }
 ]
}