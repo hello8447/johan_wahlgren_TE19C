{
 "metadata": {
  "language_info": {
   "codemirror_mode": {
    "name": "ipython",
    "version": 3
   },
   "file_extension": ".py",
   "mimetype": "text/x-python",
   "name": "python",
   "nbconvert_exporter": "python",
   "pygments_lexer": "ipython3",
   "version": 3
  },
  "orig_nbformat": 2
 },
 "nbformat": 4,
 "nbformat_minor": 2,
 "cells": [
  {
   "cell_type": "code",
   "execution_count": null,
   "metadata": {},
   "outputs": [],
   "source": [
    "#uppgift 2a\n",
    "nunmer = 0\n",
    "x = nummer\n",
    "for x in range(1,101)   # Eftersom 100 är sluttalet kommer räknaren sluta på 99 för att räknaren ska bli 100 ska man ta +1\n",
    "print(x)                # Programmet skriver ut alla tal mellan 1,100"
   ]
  },
  {
   "cell_type": "code",
   "execution_count": null,
   "metadata": {},
   "outputs": [],
   "source": [
    "#uppgift 2\n",
    "\n",
    "if  i % 5 == 0:        # Alla tal som är delbart med 5 och resultatet blir ett heltal skrivs ner som burr\n",
    "    print(\"burr\")"
   ]
  },
  {
   "cell_type": "code",
   "execution_count": null,
   "metadata": {},
   "outputs": [],
   "source": [
    "#uppgidt 2c\n",
    "tabell = int(input(\"vilken gångertabell vill du använda? \"))    #Användaren får välja parametern\n",
    "for i in range(1,101):      \n",
    "    print(i)                # Skriver ut alla tal mellan 1-100\n",
    "    if(i % tabell) == 0:    # Om ett talet är delbart med gångertabellen man valde innan printar programmet \"burr\"\n",
    "        print(\"burr\")"
   ]
  },
  {
   "cell_type": "code",
   "execution_count": null,
   "metadata": {},
   "outputs": [],
   "source": [
    "#uppgift 2d\n",
    "tabell2 = int(input(\"vilken gångertabell vill din kompis använda? \"))\n",
    "for i in range(1,101):\n",
    "    print(i)\n",
    "if (i % tabell2) == 0:      # Om talet och gånger tabellen kompisen skrev in är delbart med varandra och det blir ett heltal skrivr den ut birr\n",
    "    print(\"birr\")"
   ]
  },
  {
   "cell_type": "code",
   "execution_count": null,
   "metadata": {},
   "outputs": [],
   "source": []
  },
  {
   "cell_type": "code",
   "execution_count": null,
   "metadata": {},
   "outputs": [],
   "source": [
    "#uppgift 2e\n",
    "burr = 0    # Nollställ variabler\n",
    "birr = 0\n",
    "birrburr = 0\n",
    "start = int(input(\"vilket startvärde vill du ha?\" ))     # låt använderen bestämma parametrar   \n",
    "slut = int(input(\"vilket slutvärde vill du ha? \"))          \n",
    "tabell = int(input(\"vilken gånger tabell vill du ha? \"))\n",
    "tabell2 = int(input(\"vilken gångertabell vill din kompisa ha? \"))\n",
    "for i in range(start,slut + 1):     # inkluderar slutvärdet i loopen och därför +1\n",
    "    print(i)                        \n",
    "    if (i % tabell) == 0:        # % ger resten av en heltalsdivision så vid jämnt delbart blir resten noll\n",
    "        print(\"burr\")\n",
    "        burr +=1                 # ökar räknaren med 1\n",
    "    if (i % tabell2) == 0:       # Gör samma sak med birr\n",
    "        print(\"birr\")\n",
    "        birr +=1          \n",
    "    if (i % tabell) == 0 and (i % tabell2) == 0:        # När båda vilkor uppylls blir det birrburr\n",
    "        print(\"birrburr\") \n",
    "        birrburr +=1\n",
    "print(f\"det är {burr} burr, {birr} birr och {birrburr} birrburr\")   #Programmet kommer ta värdet som programmet fick när den t.ex räknade ut birr, och lägga in den i printen"
   ]
  }
 ]
}