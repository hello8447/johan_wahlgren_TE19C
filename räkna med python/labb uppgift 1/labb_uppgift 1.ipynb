{
 "metadata": {
  "language_info": {
   "codemirror_mode": {
    "name": "ipython",
    "version": 3
   },
   "file_extension": ".py",
   "mimetype": "text/x-python",
   "name": "python",
   "nbconvert_exporter": "python",
   "pygments_lexer": "ipython3",
   "version": "3.8.5-final"
  },
  "orig_nbformat": 2,
  "kernelspec": {
   "name": "Python 3.8.5 32-bit",
   "display_name": "Python 3.8.5 32-bit",
   "metadata": {
    "interpreter": {
     "hash": "43ffb52e5ec73d3aac7d77bc3ee21f4ff3f6bfadd376d58208ab66696f4c8b68"
    }
   }
  }
 },
 "nbformat": 4,
 "nbformat_minor": 2,
 "cells": [
  {
   "cell_type": "code",
   "execution_count": 39,
   "metadata": {},
   "outputs": [
    {
     "output_type": "stream",
     "name": "stdout",
     "text": [
      "0.7071067811865476\n"
     ]
    }
   ],
   "source": [
    "#upgift 1a\n",
    "x=0.5\n",
    "y=0.5\n",
    "distans=(x**2+y**2)**0.5\n",
    "print(distans)\n",
    "\n"
   ]
  },
  {
   "cell_type": "code",
   "execution_count": 41,
   "metadata": {},
   "outputs": [
    {
     "output_type": "stream",
     "name": "stdout",
     "text": [
      "1.4142135623730951\n"
     ]
    }
   ],
   "source": [
    "#uppgift 1b\n",
    "x=1\n",
    "y=1\n",
    "distans=(x**2+y**2)**0.5\n",
    "print(distans)"
   ]
  },
  {
   "cell_type": "code",
   "execution_count": 43,
   "metadata": {},
   "outputs": [
    {
     "output_type": "stream",
     "name": "stdout",
     "text": [
      "0.7071067811865476\n"
     ]
    }
   ],
   "source": [
    "#uppgift 1c\n",
    "x=0.5\n",
    "y=-0.5\n",
    "distans=(x**2+y**2)**0.5\n",
    "print(distans)"
   ]
  },
  {
   "cell_type": "code",
   "execution_count": 45,
   "metadata": {},
   "outputs": [
    {
     "output_type": "stream",
     "name": "stdout",
     "text": [
      "0.8686991875743763\n1.0854314215187526\n0.7780169004762726\n0.786280086525801\n0.4747179274856233\n0.43869371442360916\n0.8165131484790582\n0.08240471415381549\n0.6051645483331065\n1.0504993616268943\n0.6073212335395002\n0.9163181992516612\n0.9159334813459913\n1.0676331946051472\n0.9559600870354471\n0.4253205280875271\n0.7602605321388975\n0.5540190978107867\n0.46971400379851785\n0.6113745110371577\n0.9020682322265104\n0.43743297060134617\n0.659300221864022\n0.7523234882664914\n0.477861933387435\n0.5142717073790157\n1.1762613841326017\n0.9670259389393725\n0.4047017842127977\n0.5758483614886332\n0.6155694344871849\n0.14297168528430246\n0.7218927867010144\n1.1213259444322163\n0.9944985869000023\n1.0353474835719394\n0.9955278677235004\n0.47391364734982644\n1.2768972408972836\n1.06893340123218\n0.8760563018288006\n1.032676769438256\n0.7260108001957275\n1.0684194922675454\n0.3608039284157676\n0.7150885738569831\n0.2276671736203252\n1.087619148871009\n0.48398431029296896\n0.9386677179704126\n0.41974852500471505\n1.3325133656935562\n1.0760417237307822\n0.39609070415606407\n1.007062518676084\n0.9724742278859436\n1.1360490863555297\n0.6218937478884748\n0.8584692625791944\n0.5497083504591298\n0.6265235174323881\n0.8616732228072624\n0.42326612054154383\n0.9299341240314435\n0.5308006902258161\n0.7216009589609346\n0.6673057100844209\n0.7552194165596331\n0.6433176344664031\n0.8498320773615077\n0.29671848583767185\n0.4330375925881343\n0.7408780339995894\n0.8356732248470022\n0.2386316127700005\n0.7989639485571401\n0.06119917013460965\n0.9737585459807122\n0.6554197109727015\n1.127775308818801\n0.3362558366852875\n0.9641542184258513\n1.3545672176389834\n0.765697313227365\n0.9250327464890842\n0.9768602564316341\n0.805541490735737\n0.46948481423093624\n0.2858737182876728\n1.0934536969138575\n0.342908472797706\n0.9910025329125467\n0.8372635254504945\n0.7561627803098282\n0.9035915283608544\n1.1035923478091625\n0.6330256075683907\n0.8583453461815547\n0.7496085716775248\n"
     ]
    }
   ],
   "source": [
    "#uppfift 1d\n",
    "import random \n",
    "for i in range(1,100):\n",
    "    x = random.uniform(-1,1)\n",
    "    y = random.uniform(-1,1)\n",
    "    distans=(x**2+y**2)**0.5\n",
    "    print(distans)\n",
    "\n",
    "\n",
    "\n"
   ]
  },
  {
   "cell_type": "code",
   "execution_count": 64,
   "metadata": {},
   "outputs": [
    {
     "output_type": "stream",
     "name": "stdout",
     "text": [
      "det är 79 punkter i cirkeln av 99 möjliga , ration är 0.797979797979798\n"
     ]
    }
   ],
   "source": [
    "#uppgift 1f\n",
    "import random \n",
    "inne=0\n",
    "total=0\n",
    "for i in range(1,1000000):\n",
    "    x = random.uniform(-1,1)\n",
    "    y = random.uniform(-1,1)\n",
    "    distans=(x**2+y**2)**0.5\n",
    "    if distans < 1:\n",
    "        inne +=1\n",
    "    total +=1 \n",
    "print(f\"det är {inne} punkter i cirkeln av {total} möjliga , ration är {inne/total}\")\n",
    "\n",
    "    \n",
    "    \n",
    "        "
   ]
  },
  {
   "cell_type": "code",
   "execution_count": 66,
   "metadata": {},
   "outputs": [
    {
     "output_type": "stream",
     "name": "stdout",
     "text": [
      "det är 785990 punkter i cirkeln av 999999 möjliga , 4* ration är 3.143963143963144\n"
     ]
    }
   ],
   "source": [
    "#uppgift 1e\n",
    "import random \n",
    "inne=0\n",
    "total=0\n",
    "for i in range(1,1000000):\n",
    "    x = random.uniform(-1,1)\n",
    "    y = random.uniform(-1,1)\n",
    "    distans=(x**2+y**2)**0.5\n",
    "    if distans < 1:\n",
    "        inne +=1\n",
    "    total +=1 \n",
    "print(f\"det är {inne} punkter i cirkeln av {total} möjliga , 4* ration är {4*inne/total}\")\n",
    "\n",
    "# Om man får reda på formeln för att räkna ut arean på kvaderaten och cirken. Sedan delar man på cirkelns area med kvaderatens area. Då lämnas pi/4 kvar och i uppgiften skulle man multiplicera resultaten med 4 och därför närmade sig ration pi.\n"
   ]
  },
  {
   "cell_type": "code",
   "execution_count": 3,
   "metadata": {},
   "outputs": [
    {
     "output_type": "error",
     "ename": "ModuleNotFoundError",
     "evalue": "No module named 'matplotlib'",
     "traceback": [
      "\u001b[1;31m---------------------------------------------------------------------------\u001b[0m",
      "\u001b[1;31mModuleNotFoundError\u001b[0m                       Traceback (most recent call last)",
      "\u001b[1;32m<ipython-input-3-3b5ea41fca2a>\u001b[0m in \u001b[0;36m<module>\u001b[1;34m\u001b[0m\n\u001b[0;32m      1\u001b[0m \u001b[1;31m#uppgift 1g\u001b[0m\u001b[1;33m\u001b[0m\u001b[1;33m\u001b[0m\u001b[1;33m\u001b[0m\u001b[0m\n\u001b[0;32m      2\u001b[0m \u001b[1;32mimport\u001b[0m \u001b[0mrandom\u001b[0m\u001b[1;33m\u001b[0m\u001b[1;33m\u001b[0m\u001b[0m\n\u001b[1;32m----> 3\u001b[1;33m \u001b[1;32mimport\u001b[0m \u001b[0mmatplotlib\u001b[0m\u001b[1;33m.\u001b[0m\u001b[0mpyplot\u001b[0m \u001b[1;32mas\u001b[0m \u001b[0mplt\u001b[0m\u001b[1;33m\u001b[0m\u001b[1;33m\u001b[0m\u001b[0m\n\u001b[0m\u001b[0;32m      4\u001b[0m \u001b[1;33m\u001b[0m\u001b[0m\n\u001b[0;32m      5\u001b[0m \u001b[0minne\u001b[0m\u001b[1;33m=\u001b[0m\u001b[1;36m0\u001b[0m\u001b[1;33m\u001b[0m\u001b[1;33m\u001b[0m\u001b[0m\n",
      "\u001b[1;31mModuleNotFoundError\u001b[0m: No module named 'matplotlib'"
     ]
    }
   ],
   "source": [
    "#uppgift 1g\n",
    "import random \n",
    "import matplotlib.pyplot as plt\n",
    "\n",
    "antal = 1000\n",
    "plot = 0\n",
    "radie = 0\n",
    "inne = 0\n",
    "total = 0\n",
    "for i in range(1,antal):\n",
    "    x = random.uniform(-radie,radie)\n",
    "    y = random.uniform(-radie,radie)\n",
    "    distans=(x**2+y**2)**0.5\n",
    "    plt.scatter(x,y,c='blue')\n",
    "    if distans < radie:\n",
    "        if plot\n",
    "        plt.scatter(x,y,c='red')\n",
    "        inne +=1\n",
    "    else:\n",
    "        plt.scatter(x,y,c='blue')\n",
    "    total +=1\n",
    "plt.show()\n",
    "print(f\"det är {inne} punkter i cirkeln av {total} möjliga , 4* ration är {4*inne/total}\")\n",
    "\n"
   ]
  },
  {
   "cell_type": "code",
   "execution_count": null,
   "metadata": {},
   "outputs": [],
   "source": []
  }
 ]
}