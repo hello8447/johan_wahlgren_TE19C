{
 "metadata": {
  "language_info": {
   "codemirror_mode": {
    "name": "ipython",
    "version": 3
   },
   "file_extension": ".py",
   "mimetype": "text/x-python",
   "name": "python",
   "nbconvert_exporter": "python",
   "pygments_lexer": "ipython3",
   "version": 3
  },
  "orig_nbformat": 2
 },
 "nbformat": 4,
 "nbformat_minor": 2,
 "cells": [
  {
   "cell_type": "code",
   "execution_count": null,
   "metadata": {},
   "outputs": [],
   "source": [
    "#uppgift 1\n",
    "namn = input(\"vad heter du? \")\n",
    "s = len(namn)       # programet tar ut alla bokstäver i namnet\n",
    "print(s)"
   ]
  },
  {
   "cell_type": "code",
   "execution_count": null,
   "metadata": {},
   "outputs": [],
   "source": [
    "#uppgift 2\n",
    "mening = \"en bild säger mer än tusen ord, en matematisk formel säger mer än tusen bilder\"\n",
    "res = len(mening.split()) # programmet tar ut alla ord som fanns i denna meningen\n",
    "print (res)     #och sen pri ntar ut hur många ord programmet hittade i meningen"
   ]
  },
  {
   "cell_type": "code",
   "execution_count": null,
   "metadata": {},
   "outputs": [],
   "source": [
    "#uppgift 4\n",
    "mening = \"do not worry abput your difficulties in mathematics. I can assure you mine are still greater\"\n",
    "vokaler = 0     # man nollställer variablerna\n",
    " \n",
    "for i in mening:\n",
    "    if(i == 'a' or i == 'e' or i == 'i' or i == 'o' or i == 'u' or i == 'A'\n",
    "       or i == 'E' or i == 'I' or i == 'O' or i == 'U'):                    # varje gång programmet hittar en meningen ökar vokal räknaren med 1.\n",
    "        vokaler +=1\n",
    "print(vokaler)      \n"
   ]
  },
  {
   "cell_type": "code",
   "execution_count": null,
   "metadata": {},
   "outputs": [],
   "source": []
  }
 ]
}