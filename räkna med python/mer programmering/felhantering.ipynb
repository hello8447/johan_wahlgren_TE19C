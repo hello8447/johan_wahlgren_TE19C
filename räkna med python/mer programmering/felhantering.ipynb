{
 "metadata": {
  "language_info": {
   "codemirror_mode": {
    "name": "ipython",
    "version": 3
   },
   "file_extension": ".py",
   "mimetype": "text/x-python",
   "name": "python",
   "nbconvert_exporter": "python",
   "pygments_lexer": "ipython3",
   "version": 3
  },
  "orig_nbformat": 2
 },
 "nbformat": 4,
 "nbformat_minor": 2,
 "cells": [
  {
   "cell_type": "code",
   "execution_count": null,
   "metadata": {},
   "outputs": [],
   "source": [
    "# uppgift 1 felsökning\n",
    "import numpy as np    # stavfel\n",
    "def distance(x,y):\n",
    "  return np.sqrt(x+y)\n",
    "\n",
    "print(distance(0.5,0.5))    # tar bort [ ] och ersätta de med vanliga ()"
   ]
  },
  {
   "cell_type": "code",
   "execution_count": null,
   "metadata": {},
   "outputs": [],
   "source": [
    "# uppgift 2 felsösning\n",
    "def ar_fyrsiffrigt(tal):     \n",
    "  tal = abs(tal)          # Göra ett absolutbelopp\n",
    "  if tal // 1000 >= 10:   # ändrade < til >= testar om talet är större eller lika med 10 000\n",
    "    return False\n",
    "  elif tal // 100 < 10:   # Lägger in en till if sats för att testa om talet är mindre än 1 000\n",
    "    return False\n",
    "  else:\n",
    "    return True\n",
    "\n",
    "\n",
    "testtal = [100, 231, 10000, 10001, -1000, 102313]\n",
    "for t in testtal:\n",
    "  if ar_fyrsiffrigt(t):\n",
    "    print(f\"{t} är fyrsiffrigt\")\n",
    "  else:\n",
    "    print(f\"{t} är inte fyrsiffrigt\")"
   ]
  },
  {
   "cell_type": "code",
   "execution_count": null,
   "metadata": {},
   "outputs": [],
   "source": [
    "# upppgift 3 felsökning\n",
    "def inputValue(txt, negTxt):\n",
    "  tal = -1\n",
    "  while tal < 0:\n",
    "    try:\n",
    "      tal = int(input(txt))\n",
    "      if tal < 0:\n",
    "        print(negTxt)\n",
    "    except:\n",
    "      print(\"Skrev du ett tal?  Försök igen.\")\n",
    "  return tal\n",
    "\n",
    "engångsbiljett = inputValue(\"Hur mycket kostar en engångsbiljett? \", \"Jag tror inte Västtrafik betalar dig för att åka!  Försök igen.\")    \n",
    "månadskort = inputValue(\"Hur mycket kostar ett månadskort? \", \"Betalar Västtrafik dig för att du tar månadskort?  Ta två då! Försök igen\")\n",
    "antal = inputValue(\"Hur många gånger vill du åka västrafik? \", \"Hur åker man ett negativt antal gånger, backar man då? Försök igen\")\n",
    "kostnad =float(antal * engångsbiljett)\n",
    "print (f\"De blir sammanlagt {kostnad} kronor\")\n",
    "if kostnad > månadskort :\n",
    "    print(f\"Det blir billigare med månadskort för {månadskort} kronor\")\n",
    "else:\n",
    "    print(\"Det lönar sig inte med månadskort\")"
   ]
  }
 ]
}