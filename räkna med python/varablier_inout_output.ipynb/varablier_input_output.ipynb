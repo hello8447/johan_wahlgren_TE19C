{
 "metadata": {
  "language_info": {
   "codemirror_mode": {
    "name": "ipython",
    "version": 3
   },
   "file_extension": ".py",
   "mimetype": "text/x-python",
   "name": "python",
   "nbconvert_exporter": "python",
   "pygments_lexer": "ipython3",
   "version": 3
  },
  "orig_nbformat": 2
 },
 "nbformat": 4,
 "nbformat_minor": 2,
 "cells": [
  {
   "cell_type": "code",
   "execution_count": null,
   "metadata": {},
   "outputs": [],
   "source": [
    "g =9,82\n",
    "\n",
    "m=float(input(\"hur mycket väger du\")\n",
    "\n",
    "f= m*g \n",
    "\n",
    "print(f\"Din tyngdkraft är {F}N\") \n",
    "m = float(input(\"Hur mycket väger du? \"))\n",
    "\n",
    "F = m*g \n",
    "\n",
    "print(f\"Din tyngdkraft är {F}N\") \n"
   ]
  },
  {
   "cell_type": "code",
   "execution_count": null,
   "metadata": {},
   "outputs": [],
   "source": []
  }
 ]
}